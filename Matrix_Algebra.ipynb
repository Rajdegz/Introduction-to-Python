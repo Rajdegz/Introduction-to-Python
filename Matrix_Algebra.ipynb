{
  "nbformat": 4,
  "nbformat_minor": 0,
  "metadata": {
    "colab": {
      "name": "Matrix Algebra.ipynb",
      "provenance": [],
      "authorship_tag": "ABX9TyO3+GxI24a9RJHAia6VWOMN",
      "include_colab_link": true
    },
    "kernelspec": {
      "name": "python3",
      "display_name": "Python 3"
    },
    "language_info": {
      "name": "python"
    }
  },
  "cells": [
    {
      "cell_type": "markdown",
      "metadata": {
        "id": "view-in-github",
        "colab_type": "text"
      },
      "source": [
        "<a href=\"https://colab.research.google.com/github/Rajdegz/Introduction-to-Python/blob/main/Matrix_Algebra.ipynb\" target=\"_parent\"><img src=\"https://colab.research.google.com/assets/colab-badge.svg\" alt=\"Open In Colab\"/></a>"
      ]
    },
    {
      "cell_type": "markdown",
      "metadata": {
        "id": "cU03m3xOUMgs"
      },
      "source": [
        "##Matrix and its Operations "
      ]
    },
    {
      "cell_type": "code",
      "metadata": {
        "colab": {
          "base_uri": "https://localhost:8080/"
        },
        "id": "hWMgjJEeNDAy",
        "outputId": "0fe3cfc3-1b30-4e35-f606-992fcea403c5"
      },
      "source": [
        "import numpy as np\n",
        "a = np.array([1,2,3]) #This is a 1x3 array. \n",
        "print(a)"
      ],
      "execution_count": 19,
      "outputs": [
        {
          "output_type": "stream",
          "name": "stdout",
          "text": [
            "[1 2 3]\n"
          ]
        }
      ]
    },
    {
      "cell_type": "code",
      "metadata": {
        "colab": {
          "base_uri": "https://localhost:8080/"
        },
        "id": "Kpiu-3nkUrp7",
        "outputId": "e1ec937c-9665-4750-a793-e296ec2aff41"
      },
      "source": [
        "b = np.array([[1,2,3],[4,5,6]]) #This is an example of 2x3 matrix\n",
        "#print(b)\n",
        "#print(b.shape)\n",
        "b[0,0] = 7\n",
        "print(b)"
      ],
      "execution_count": 35,
      "outputs": [
        {
          "output_type": "stream",
          "name": "stdout",
          "text": [
            "[[7 2 3]\n",
            " [4 5 6]]\n"
          ]
        }
      ]
    },
    {
      "cell_type": "code",
      "metadata": {
        "colab": {
          "base_uri": "https://localhost:8080/"
        },
        "id": "fhPEMyehU5pS",
        "outputId": "124f5a7e-8a03-493f-842c-ac6b9746ae54"
      },
      "source": [
        "c = np.array([[1,2,3],[4,5,6],[7,8,9]]) #This is an example of square matrix\n",
        "print(c)"
      ],
      "execution_count": 37,
      "outputs": [
        {
          "output_type": "stream",
          "name": "stdout",
          "text": [
            "[[1 2 3]\n",
            " [4 5 6]\n",
            " [7 8 9]]\n"
          ]
        }
      ]
    },
    {
      "cell_type": "code",
      "metadata": {
        "colab": {
          "base_uri": "https://localhost:8080/"
        },
        "id": "GgG9DhA5XdMI",
        "outputId": "6af5155c-29a5-47e6-f926-3c8d91e4c32d"
      },
      "source": [
        "d = np.full((2,2),4)\n",
        "d"
      ],
      "execution_count": 39,
      "outputs": [
        {
          "output_type": "execute_result",
          "data": {
            "text/plain": [
              "array([[4, 4],\n",
              "       [4, 4]])"
            ]
          },
          "metadata": {},
          "execution_count": 39
        }
      ]
    },
    {
      "cell_type": "code",
      "metadata": {
        "colab": {
          "base_uri": "https://localhost:8080/"
        },
        "id": "etAJCR6HX7si",
        "outputId": "f4fb83f7-1971-4b84-918c-9a66bbc1f2ed"
      },
      "source": [
        "e = np.eye(2)\n",
        "e"
      ],
      "execution_count": 43,
      "outputs": [
        {
          "output_type": "execute_result",
          "data": {
            "text/plain": [
              "array([[1., 0.],\n",
              "       [0., 1.]])"
            ]
          },
          "metadata": {},
          "execution_count": 43
        }
      ]
    },
    {
      "cell_type": "code",
      "metadata": {
        "colab": {
          "base_uri": "https://localhost:8080/"
        },
        "id": "7eD_n6XeYP3B",
        "outputId": "b70f19f4-8976-4cf0-d84c-d0762aad7945"
      },
      "source": [
        "f = np.diagonal([[1,2,3],[4,5,6],[7,8,9]])\n",
        "print(f)"
      ],
      "execution_count": 47,
      "outputs": [
        {
          "output_type": "stream",
          "name": "stdout",
          "text": [
            "[1 5 9]\n"
          ]
        }
      ]
    },
    {
      "cell_type": "code",
      "metadata": {
        "colab": {
          "base_uri": "https://localhost:8080/"
        },
        "id": "6fg75W5VY0oX",
        "outputId": "54b473ff-e959-46f2-fe45-a3455b383560"
      },
      "source": [
        "g = np.empty((0,10))\n",
        "print(g)"
      ],
      "execution_count": 51,
      "outputs": [
        {
          "output_type": "stream",
          "name": "stdout",
          "text": [
            "[]\n"
          ]
        }
      ]
    },
    {
      "cell_type": "code",
      "metadata": {
        "colab": {
          "base_uri": "https://localhost:8080/"
        },
        "id": "FzJtl0Z2aGgv",
        "outputId": "5f3bf999-6d6e-4d31-ff8a-70126edef9aa"
      },
      "source": [
        "h = np.zeros((2,2))\n",
        "h"
      ],
      "execution_count": 50,
      "outputs": [
        {
          "output_type": "execute_result",
          "data": {
            "text/plain": [
              "array([[0., 0.],\n",
              "       [0., 0.]])"
            ]
          },
          "metadata": {},
          "execution_count": 50
        }
      ]
    },
    {
      "cell_type": "code",
      "metadata": {
        "colab": {
          "base_uri": "https://localhost:8080/"
        },
        "id": "AvA9B7IyaTo_",
        "outputId": "9bcf2d10-7e79-4a33-fb05-4ac077b9e290"
      },
      "source": [
        "e = np.eye(2)\n",
        "h = np.zeros((2,2))\n",
        "print(e)\n",
        "print(h)\n",
        "print(e+h) #This is the code to get the summation of matrices e and h\n",
        "print(e-h) #This is the code to get the difference of matrices e and h\n",
        "print(h-e) #This is the code to get the inverse of the summaation of matrices e and h"
      ],
      "execution_count": 58,
      "outputs": [
        {
          "output_type": "stream",
          "name": "stdout",
          "text": [
            "[[1. 0.]\n",
            " [0. 1.]]\n",
            "[[0. 0.]\n",
            " [0. 0.]]\n",
            "[[1. 0.]\n",
            " [0. 1.]]\n",
            "[[1. 0.]\n",
            " [0. 1.]]\n",
            "[[-1.  0.]\n",
            " [ 0. -1.]]\n"
          ]
        }
      ]
    },
    {
      "cell_type": "code",
      "metadata": {
        "id": "nLgduDvhapoK"
      },
      "source": [
        ""
      ],
      "execution_count": null,
      "outputs": []
    }
  ]
}