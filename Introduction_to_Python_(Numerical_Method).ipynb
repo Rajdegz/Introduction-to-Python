{
  "nbformat": 4,
  "nbformat_minor": 0,
  "metadata": {
    "colab": {
      "name": "Introduction to Python (Numerical Method)",
      "provenance": []
    },
    "kernelspec": {
      "name": "python3",
      "display_name": "Python 3"
    },
    "language_info": {
      "name": "python"
    }
  },
  "cells": [
    {
      "cell_type": "markdown",
      "metadata": {
        "id": "F_duwBrdNydm"
      },
      "source": [
        "#Introduction to Python"
      ]
    },
    {
      "cell_type": "code",
      "metadata": {
        "colab": {
          "base_uri": "https://localhost:8080/"
        },
        "id": "DDTfhLK8RF39",
        "outputId": "d830080f-b858-488a-e65b-74c3e439310e"
      },
      "source": [
        "j= \"enjoying\"\n",
        "print (\"Python programming is \" + j) "
      ],
      "execution_count": 18,
      "outputs": [
        {
          "output_type": "stream",
          "text": [
            "Python programming is enjoying\n"
          ],
          "name": "stdout"
        }
      ]
    },
    {
      "cell_type": "code",
      "metadata": {
        "colab": {
          "base_uri": "https://localhost:8080/"
        },
        "id": "90XZCHhDTCzj",
        "outputId": "79a11f3d-7121-4980-af35-38c7072bb57e"
      },
      "source": [
        "x = 5\n",
        "y = 3\n",
        "x + y"
      ],
      "execution_count": 21,
      "outputs": [
        {
          "output_type": "execute_result",
          "data": {
            "text/plain": [
              "8"
            ]
          },
          "metadata": {},
          "execution_count": 21
        }
      ]
    },
    {
      "cell_type": "code",
      "metadata": {
        "colab": {
          "base_uri": "https://localhost:8080/"
        },
        "id": "YSeSy2ktUeMu",
        "outputId": "7faf18e7-a62b-47e3-da0a-ef11eebaab4b"
      },
      "source": [
        "x = 5\n",
        "y = 3\n",
        "sum = x + y\n",
        "sum"
      ],
      "execution_count": 26,
      "outputs": [
        {
          "output_type": "execute_result",
          "data": {
            "text/plain": [
              "8"
            ]
          },
          "metadata": {},
          "execution_count": 26
        }
      ]
    },
    {
      "cell_type": "code",
      "metadata": {
        "colab": {
          "base_uri": "https://localhost:8080/"
        },
        "id": "Efwl8t3jTzAn",
        "outputId": "1c331f85-baf6-4850-9611-9c8b060bb617"
      },
      "source": [
        "a, b, c =0, -1, 6\n",
        "c%=2  #This will display the remainder of 6 divided by 2\n",
        "c"
      ],
      "execution_count": 28,
      "outputs": [
        {
          "output_type": "execute_result",
          "data": {
            "text/plain": [
              "0"
            ]
          },
          "metadata": {},
          "execution_count": 28
        }
      ]
    },
    {
      "cell_type": "code",
      "metadata": {
        "colab": {
          "base_uri": "https://localhost:8080/"
        },
        "id": "D3xubsQHUREP",
        "outputId": "b59c8944-1f38-4071-b04e-bef7aa424903"
      },
      "source": [
        "a, b, c =0, -1, 5 \n",
        "c%=2  #This is also the same as c%=2\n",
        "c"
      ],
      "execution_count": 29,
      "outputs": [
        {
          "output_type": "execute_result",
          "data": {
            "text/plain": [
              "1"
            ]
          },
          "metadata": {},
          "execution_count": 29
        }
      ]
    },
    {
      "cell_type": "code",
      "metadata": {
        "colab": {
          "base_uri": "https://localhost:8080/"
        },
        "id": "CJl4esqJUzKi",
        "outputId": "168537c8-69b0-49a8-ea51-16488d38f864"
      },
      "source": [
        "x = 3  \n",
        "y = 5\n",
        "compare = x>y\n",
        "print (compare)"
      ],
      "execution_count": 30,
      "outputs": [
        {
          "output_type": "stream",
          "text": [
            "False\n"
          ],
          "name": "stdout"
        }
      ]
    },
    {
      "cell_type": "code",
      "metadata": {
        "colab": {
          "base_uri": "https://localhost:8080/"
        },
        "id": "_Gbl5Ev_V0w6",
        "outputId": "26fee6e0-b2a7-4510-de88-4daae45b1806"
      },
      "source": [
        "x = 3  \n",
        "y = 5\n",
        "\n",
        "x>2 and y>4"
      ],
      "execution_count": 33,
      "outputs": [
        {
          "output_type": "execute_result",
          "data": {
            "text/plain": [
              "True"
            ]
          },
          "metadata": {},
          "execution_count": 33
        }
      ]
    },
    {
      "cell_type": "code",
      "metadata": {
        "colab": {
          "base_uri": "https://localhost:8080/"
        },
        "id": "UsdqWEY5V9R_",
        "outputId": "8b97e56f-f45d-433c-d896-72212c688bb4"
      },
      "source": [
        "x = 3  \n",
        "y = 5\n",
        "\n",
        "x is y"
      ],
      "execution_count": 34,
      "outputs": [
        {
          "output_type": "execute_result",
          "data": {
            "text/plain": [
              "False"
            ]
          },
          "metadata": {},
          "execution_count": 34
        }
      ]
    },
    {
      "cell_type": "code",
      "metadata": {
        "colab": {
          "base_uri": "https://localhost:8080/"
        },
        "id": "TjLwTLCIWJsd",
        "outputId": "4b31c703-462a-4e31-90b6-a0e029b07618"
      },
      "source": [
        "x = 3  \n",
        "y = 5\n",
        "\n",
        "x is not y"
      ],
      "execution_count": 35,
      "outputs": [
        {
          "output_type": "execute_result",
          "data": {
            "text/plain": [
              "True"
            ]
          },
          "metadata": {},
          "execution_count": 35
        }
      ]
    }
  ]
}