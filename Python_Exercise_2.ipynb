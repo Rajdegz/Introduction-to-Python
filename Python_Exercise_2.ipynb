{
  "nbformat": 4,
  "nbformat_minor": 0,
  "metadata": {
    "colab": {
      "name": "Python Exercise 2.ipynb",
      "provenance": [],
      "authorship_tag": "ABX9TyO+BQ20M9/kaMfsJ5+p/JKy",
      "include_colab_link": true
    },
    "kernelspec": {
      "name": "python3",
      "display_name": "Python 3"
    },
    "language_info": {
      "name": "python"
    }
  },
  "cells": [
    {
      "cell_type": "markdown",
      "metadata": {
        "id": "view-in-github",
        "colab_type": "text"
      },
      "source": [
        "<a href=\"https://colab.research.google.com/github/Rajdegz/Numerical-Methods/blob/main/Python_Exercise_2.ipynb\" target=\"_parent\"><img src=\"https://colab.research.google.com/assets/colab-badge.svg\" alt=\"Open In Colab\"/></a>"
      ]
    },
    {
      "cell_type": "markdown",
      "metadata": {
        "id": "_veRWIZUhBI7"
      },
      "source": [
        ""
      ]
    },
    {
      "cell_type": "code",
      "metadata": {
        "colab": {
          "base_uri": "https://localhost:8080/"
        },
        "id": "TRlntAvvg3qu",
        "outputId": "e2533483-7583-4275-eee8-4d0703c369ba"
      },
      "source": [
        "import numpy as np\n",
        "print(\"Matrix A:\")\n",
        "A = np.array([\n",
        "     [-5,0],\n",
        "     [4,1]         \n",
        "])\n",
        "\n",
        "B = np.array([\n",
        "     [6,-3],\n",
        "     [2,3]\n",
        "])\n",
        "\n",
        "print(A)\n",
        "print(\"Matrix B:\")\n",
        "print(B)\n",
        "\n",
        "#For SUM\n",
        "sum = A+B\n",
        "print(\"The sum of Matrix A and B:\")\n",
        "print(sum)\n",
        "#For Difference1\n",
        "diff1 = B-A\n",
        "print(\"The difference1 of Matrix B and A:\")\n",
        "print(diff1)\n",
        "#For Difference2\n",
        "diff2 = A-B\n",
        "print(\"The difference2 of Matrix A and B:\")\n",
        "print(diff2)"
      ],
      "execution_count": 1,
      "outputs": [
        {
          "output_type": "stream",
          "name": "stdout",
          "text": [
            "Matrix A:\n",
            "[[-5  0]\n",
            " [ 4  1]]\n",
            "Matrix B:\n",
            "[[ 6 -3]\n",
            " [ 2  3]]\n",
            "The sum of Matrix A and B:\n",
            "[[ 1 -3]\n",
            " [ 6  4]]\n",
            "The difference1 of Matrix B and A:\n",
            "[[11 -3]\n",
            " [-2  2]]\n",
            "The difference2 of Matrix A and B:\n",
            "[[-11   3]\n",
            " [  2  -2]]\n"
          ]
        }
      ]
    },
    {
      "cell_type": "code",
      "metadata": {
        "id": "h6YavA9Ag4XK"
      },
      "source": [
        ""
      ],
      "execution_count": null,
      "outputs": []
    }
  ]
}