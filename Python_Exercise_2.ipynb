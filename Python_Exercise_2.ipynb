{
  "nbformat": 4,
  "nbformat_minor": 0,
  "metadata": {
    "colab": {
      "name": "Python Exercise 2.ipynb",
      "provenance": [],
      "collapsed_sections": [],
      "authorship_tag": "ABX9TyPTGbm67CwrGK8hPYt6v1H5",
      "include_colab_link": true
    },
    "kernelspec": {
      "name": "python3",
      "display_name": "Python 3"
    },
    "language_info": {
      "name": "python"
    }
  },
  "cells": [
    {
      "cell_type": "markdown",
      "metadata": {
        "id": "view-in-github",
        "colab_type": "text"
      },
      "source": [
        "<a href=\"https://colab.research.google.com/github/Rajdegz/Numerical-Methods/blob/main/Python_Exercise_2.ipynb\" target=\"_parent\"><img src=\"https://colab.research.google.com/assets/colab-badge.svg\" alt=\"Open In Colab\"/></a>"
      ]
    },
    {
      "cell_type": "markdown",
      "metadata": {
        "id": "rA96tZFabK2C"
      },
      "source": [
        "##Matrix and its Operations\n"
      ]
    },
    {
      "cell_type": "code",
      "metadata": {
        "id": "2bfQQRtJbQ02"
      },
      "source": [
        "import numpy as np"
      ],
      "execution_count": 1,
      "outputs": []
    },
    {
      "cell_type": "code",
      "metadata": {
        "colab": {
          "base_uri": "https://localhost:8080/"
        },
        "id": "9y5c0imKbTkp",
        "outputId": "2237d24a-d8a1-48b1-97e2-c5c0a89cb3ca"
      },
      "source": [
        "A = np.array([[-5,0],[4, 1]])\n",
        "B = np.array([[6,-3],[2,3]])\n",
        "print(\"A =\",A)\n",
        "print(\"B=\",B)"
      ],
      "execution_count": 17,
      "outputs": [
        {
          "output_type": "stream",
          "name": "stdout",
          "text": [
            "A = [[-5  0]\n",
            " [ 4  1]]\n",
            "B= [[ 6 -3]\n",
            " [ 2  3]]\n"
          ]
        }
      ]
    },
    {
      "cell_type": "code",
      "metadata": {
        "colab": {
          "base_uri": "https://localhost:8080/"
        },
        "id": "Xckg8Uhqbexz",
        "outputId": "985e1086-2025-455a-c6a9-8343a8cac2a4"
      },
      "source": [
        "#Addition\n",
        "C = A + B\n",
        "print(C)"
      ],
      "execution_count": 12,
      "outputs": [
        {
          "output_type": "stream",
          "name": "stdout",
          "text": [
            "[[ 1 -3]\n",
            " [ 6  4]]\n"
          ]
        }
      ]
    },
    {
      "cell_type": "code",
      "metadata": {
        "colab": {
          "base_uri": "https://localhost:8080/"
        },
        "id": "MjTRXf1vcW56",
        "outputId": "264e9a9b-1119-4f1f-e99c-fc4dca68c670"
      },
      "source": [
        "#Substraction (B-A)\n",
        "D = B - A\n",
        "print(D)"
      ],
      "execution_count": 13,
      "outputs": [
        {
          "output_type": "stream",
          "name": "stdout",
          "text": [
            "[[11 -3]\n",
            " [-2  2]]\n"
          ]
        }
      ]
    },
    {
      "cell_type": "code",
      "metadata": {
        "colab": {
          "base_uri": "https://localhost:8080/"
        },
        "id": "RBfBFsaZcgUz",
        "outputId": "1fee5a03-c16a-4ee1-d03e-ec9410ae6515"
      },
      "source": [
        "#Substraction (A-B)\n",
        "E = A - B\n",
        "print(E)"
      ],
      "execution_count": 14,
      "outputs": [
        {
          "output_type": "stream",
          "name": "stdout",
          "text": [
            "[[-11   3]\n",
            " [  2  -2]]\n"
          ]
        }
      ]
    },
    {
      "cell_type": "code",
      "metadata": {
        "id": "ixiDu-Q3coZI"
      },
      "source": [
        ""
      ],
      "execution_count": null,
      "outputs": []
    }
  ]
}